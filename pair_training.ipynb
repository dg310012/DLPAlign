{
 "cells": [
  {
   "cell_type": "markdown",
   "metadata": {
    "_cell_guid": "dc9e8033-7f68-4dde-bd5d-709e03c6a4b8",
    "_uuid": "6fdae6829ac931eb6302023de80ab39d87f42710"
   },
   "source": [
    "# Import Dataset"
   ]
  },
  {
   "cell_type": "code",
   "execution_count": 1,
   "metadata": {
    "_cell_guid": "b1076dfc-b9ad-4769-8c92-a6c4dae69d19",
    "_uuid": "8f2839f25d086af736a60e9eeb907d3b93b6e0e5"
   },
   "outputs": [
    {
     "data": {
      "text/plain": [
       "(954854, 8)"
      ]
     },
     "execution_count": 1,
     "metadata": {},
     "output_type": "execute_result"
    }
   ],
   "source": [
    "import numpy as np\n",
    "import pandas as pd\n",
    "\n",
    "df = pd.read_csv('./input/full_pair_data_3.csv')\n",
    "df.reset_index()\n",
    "df.shape"
   ]
  },
  {
   "cell_type": "markdown",
   "metadata": {
    "_cell_guid": "79c7e3d0-c299-4dcb-8224-4455121ee9b0",
    "_uuid": "d629ff2d2480ee46fbb7e2d37f6b5fab8052498a",
    "collapsed": true
   },
   "source": [
    "# Preprocessing and visualization of dataset"
   ]
  },
  {
   "cell_type": "code",
   "execution_count": 2,
   "metadata": {
    "_cell_guid": "0611c0ab-8993-4a55-8299-990a4bde485c",
    "_uuid": "cbcecef0b6257c846b81465881ab253a09722958",
    "scrolled": false
   },
   "outputs": [
    {
     "name": "stdout",
     "output_type": "stream",
     "text": [
      "[3, 0, 2, 1]\n",
      "[386453, 209461, 203486, 155454]\n",
      "at least 155454 instances per class\n",
      "954854 instances before\n",
      "954854 instances after\n"
     ]
    }
   ],
   "source": [
    "import matplotlib.pyplot as plt\n",
    "from collections import Counter\n",
    "\n",
    "# count numbers of instances per class\n",
    "cnt = Counter(df.Class)\n",
    "# select only 10 most common classes!\n",
    "top_classes = 4\n",
    "# sort classes\n",
    "sorted_classes = cnt.most_common()[:top_classes]\n",
    "classes = [c[0] for c in sorted_classes]\n",
    "counts = [c[1] for c in sorted_classes]\n",
    "print(classes)\n",
    "print(counts)\n",
    "\n",
    "print(\"at least \" + str(counts[-1]) + \" instances per class\")\n",
    "\n",
    "# apply to dataframe\n",
    "print(str(df.shape[0]) + \" instances before\")\n",
    "df = df[[c in classes for c in df.Class]]\n",
    "print(str(df.shape[0]) + \" instances after\")\n",
    "\n",
    "seqs = df.Seqs.values\n",
    "lengths = [len(s) for s in seqs]\n",
    "\n",
    "# # visualize\n",
    "# fig, axarr = plt.subplots(1,2, figsize=(20,5))\n",
    "# axarr[0].bar(range(len(classes)), counts)\n",
    "# plt.sca(axarr[0])\n",
    "# plt.xticks(range(len(classes)), classes, rotation='vertical')\n",
    "# axarr[0].set_ylabel('frequency')\n",
    "\n",
    "# axarr[1].hist(lengths, bins=100, normed=False)\n",
    "# axarr[1].set_xlabel('sequence length')\n",
    "# axarr[1].set_ylabel('# sequences')\n",
    "# plt.show()"
   ]
  },
  {
   "cell_type": "markdown",
   "metadata": {
    "_cell_guid": "53f1f7fc-ee42-44e9-b5c7-cec8f3546f12",
    "_uuid": "2e0cdbed51fac3bef051067eac07e76303f54c57"
   },
   "source": [
    "# Transform labels"
   ]
  },
  {
   "cell_type": "code",
   "execution_count": 3,
   "metadata": {
    "_cell_guid": "3c194a8a-14f0-4444-b685-ce95501214b7",
    "_uuid": "3a59e4a4f6d83d81e72dd16e18789fd57f2a3d52"
   },
   "outputs": [],
   "source": [
    "from sklearn.preprocessing import LabelBinarizer\n",
    "\n",
    "# Transform labels to one-hot\n",
    "lb = LabelBinarizer()\n",
    "Y = lb.fit_transform(df.Class)\n"
   ]
  },
  {
   "cell_type": "markdown",
   "metadata": {
    "_cell_guid": "45cca47b-358a-4366-8fc6-2aca5c8768f2",
    "_uuid": "e979acc17ab4fb2aef438c3fbdadd58289099db2"
   },
   "source": [
    "# Preprocessing "
   ]
  },
  {
   "cell_type": "code",
   "execution_count": 4,
   "metadata": {
    "_cell_guid": "6bd20d9f-6b43-46bd-821b-4ceb27882a50",
    "_uuid": "72ef0fa23c88562a3261bc4ac784e2b4dd3576ae"
   },
   "outputs": [
    {
     "name": "stderr",
     "output_type": "stream",
     "text": [
      "Using TensorFlow backend.\n"
     ]
    }
   ],
   "source": [
    "from keras.preprocessing import text, sequence\n",
    "from keras.preprocessing.text import Tokenizer\n",
    "from sklearn.model_selection import train_test_split\n",
    "\n",
    "# maximum length of sequence, everything afterwards is discarded!\n",
    "max_length = 512\n",
    "\n",
    "seqs_sys = 'ARNDCQEGHILKMFPSTWYV-'\n",
    "#create and fit tokenizer\n",
    "tokenizer = Tokenizer(char_level=True)\n",
    "tokenizer.fit_on_texts(seqs_sys)\n",
    "#represent input data as word rank number sequences\n",
    "X = tokenizer.texts_to_sequences(seqs)\n",
    "X = sequence.pad_sequences(X, maxlen=max_length)"
   ]
  },
  {
   "cell_type": "markdown",
   "metadata": {
    "_cell_guid": "85a605d3-3c06-462e-8374-7a626c50f511",
    "_uuid": "c1a50e14370f7431ad5f19b4aea830f16e065129"
   },
   "source": [
    "# Build keras model and fit"
   ]
  },
  {
   "cell_type": "code",
   "execution_count": 5,
   "metadata": {},
   "outputs": [],
   "source": [
    "from keras import backend as K\n",
    "import tensorflow as tf\n",
    "\n",
    "def multi_category_focal_loss(y_true, y_pred):\n",
    "    epsilon = 1.e-7\n",
    "    gamma = 2.0\n",
    "    alpha = tf.constant([[2],[3],[2],[1]], dtype=tf.float32)\n",
    "    y_true = tf.cast(y_true, tf.float32)\n",
    "    y_pred = tf.clip_by_value(y_pred, epsilon, 1. - epsilon)\n",
    "    y_t = tf.multiply(y_true, y_pred) + tf.multiply(1-y_true, 1-y_pred)\n",
    "    ce = -tf.math.log(y_t)\n",
    "    weight = tf.pow(tf.subtract(1., y_t), gamma)\n",
    "    fl = tf.matmul(tf.multiply(weight, ce), alpha)\n",
    "    loss = tf.reduce_mean(fl)\n",
    "    return loss"
   ]
  },
  {
   "cell_type": "code",
   "execution_count": 14,
   "metadata": {
    "_cell_guid": "e284ceed-8c91-4a1c-9495-dddda0c05d63",
    "_uuid": "0c741a77feafefa6bf17380a9c36da8ab3414cc9",
    "scrolled": false
   },
   "outputs": [
    {
     "name": "stdout",
     "output_type": "stream",
     "text": [
      "Model: \"sequential_2\"\n",
      "_________________________________________________________________\n",
      "Layer (type)                 Output Shape              Param #   \n",
      "=================================================================\n",
      "embedding_2 (Embedding)      (None, 512, 8)            176       \n",
      "_________________________________________________________________\n",
      "conv1d_4 (Conv1D)            (None, 512, 32)           1568      \n",
      "_________________________________________________________________\n",
      "max_pooling1d_4 (MaxPooling1 (None, 256, 32)           0         \n",
      "_________________________________________________________________\n",
      "conv1d_5 (Conv1D)            (None, 256, 16)           1552      \n",
      "_________________________________________________________________\n",
      "max_pooling1d_5 (MaxPooling1 (None, 128, 16)           0         \n",
      "_________________________________________________________________\n",
      "simple_rnn (SimpleRNN)       (None, 128, 16)           528       \n",
      "_________________________________________________________________\n",
      "flatten_2 (Flatten)          (None, 2048)              0         \n",
      "_________________________________________________________________\n",
      "dense_6 (Dense)              (None, 256)               524544    \n",
      "_________________________________________________________________\n",
      "dropout_2 (Dropout)          (None, 256)               0         \n",
      "_________________________________________________________________\n",
      "dense_7 (Dense)              (None, 64)                16448     \n",
      "_________________________________________________________________\n",
      "dense_8 (Dense)              (None, 4)                 260       \n",
      "=================================================================\n",
      "Total params: 545,076\n",
      "Trainable params: 545,076\n",
      "Non-trainable params: 0\n",
      "_________________________________________________________________\n",
      "None\n"
     ]
    }
   ],
   "source": [
    "from  tensorflow.keras.models import Sequential\n",
    "from  tensorflow.keras.layers import Dense, Conv1D, MaxPooling1D, Flatten\n",
    "from  tensorflow.keras.layers import LSTM, GRU, Bidirectional, Dropout, SimpleRNN\n",
    "from  tensorflow.keras.layers import Embedding\n",
    "from  keras.utils.vis_utils import plot_model\n",
    "\n",
    "embedding_dim = 8\n",
    "\n",
    "# model = Sequential()\n",
    "# model.add(Embedding(len(tokenizer.word_index)+1, embedding_dim, input_length=max_length))\n",
    "# model.add(Conv1D(filters=64, kernel_size=6, padding='same', activation='selu'))\n",
    "# model.add(MaxPooling1D(pool_size=2))\n",
    "# model.add(Conv1D(filters=32, kernel_size=3, padding='same', activation='selu'))\n",
    "# model.add(MaxPooling1D(pool_size=2))\n",
    "# model.add(Bidirectional(LSTM(64, return_sequences=True)))\n",
    "# #model.add(GRU(64, activation='tanh', recurrent_activation='hard_sigmoid', use_bias=True, kernel_initializer='glorot_uniform', recurrent_initializer='orthogonal', bias_initializer='zeros', kernel_regularizer=None, recurrent_regularizer=None, bias_regularizer=None, activity_regularizer=None, kernel_constraint=None, recurrent_constraint=None, bias_constraint=None, dropout=0.0, recurrent_dropout=0.0, implementation=1, return_sequences=True, return_state=False, go_backwards=False, stateful=False, unroll=False, reset_after=False))\n",
    "# #model.add(SimpleRNN(16, return_sequences=True, activation='selu'))\n",
    "# #model.add(LSTM(64, return_sequences=True))\n",
    "# model.add(Flatten())\n",
    "# model.add(Dense(1024, activation='selu'))\n",
    "# model.add(Dropout(rate=0.5))\n",
    "# model.add(Dense(128, activation='selu'))\n",
    "# model.add(Dense(top_classes, activation='softmax'))\n",
    "# model.compile(loss='categorical_crossentropy', optimizer='adam', metrics=['accuracy'])\n",
    "# print(model.summary())\n",
    "\n",
    "model = Sequential()\n",
    "model.add(Embedding(len(tokenizer.word_index)+1, embedding_dim, input_length=max_length))\n",
    "model.add(Conv1D(filters=32, kernel_size=6, padding='same', activation='selu'))\n",
    "model.add(MaxPooling1D(pool_size=2))\n",
    "model.add(Conv1D(filters=16, kernel_size=3, padding='same', activation='selu'))\n",
    "model.add(MaxPooling1D(pool_size=2))\n",
    "#model.add(Bidirectional(GRU(16, return_sequences=True)))\n",
    "#model.add(GRU(64, activation='tanh', recurrent_activation='hard_sigmoid', use_bias=True, kernel_initializer='glorot_uniform', recurrent_initializer='orthogonal', bias_initializer='zeros', kernel_regularizer=None, recurrent_regularizer=None, bias_regularizer=None, activity_regularizer=None, kernel_constraint=None, recurrent_constraint=None, bias_constraint=None, dropout=0.0, recurrent_dropout=0.0, implementation=1, return_sequences=True, return_state=False, go_backwards=False, stateful=False, unroll=False, reset_after=False))\n",
    "model.add(SimpleRNN(16, return_sequences=True, activation='selu'))\n",
    "#model.add(GRU(16, return_sequences=True))\n",
    "model.add(Flatten())\n",
    "model.add(Dense(256, activation='selu'))\n",
    "model.add(Dropout(rate=0.5))\n",
    "model.add(Dense(64, activation='selu'))\n",
    "model.add(Dense(top_classes, activation='softmax'))\n",
    "model.compile(loss='categorical_crossentropy', optimizer='adam', metrics=['accuracy'])\n",
    "print(model.summary())"
   ]
  },
  {
   "cell_type": "code",
   "execution_count": 15,
   "metadata": {
    "_uuid": "0cfd2beb6bcfaf621b66ce1b953a689639f6d0dd",
    "scrolled": false
   },
   "outputs": [
    {
     "name": "stdout",
     "output_type": "stream",
     "text": [
      "Train on 611105 samples, validate on 152778 samples\n",
      "Epoch 1/20\n",
      "611105/611105 [==============================] - 318s 521us/sample - loss: 1.0164 - accuracy: 0.5486 - val_loss: 0.7118 - val_accuracy: 0.6780\n",
      "Epoch 2/20\n",
      "611105/611105 [==============================] - 313s 512us/sample - loss: 0.5687 - accuracy: 0.7558 - val_loss: 0.4315 - val_accuracy: 0.8128\n",
      "Epoch 3/20\n",
      "611105/611105 [==============================] - 314s 513us/sample - loss: 0.4241 - accuracy: 0.8137 - val_loss: 0.3431 - val_accuracy: 0.8436\n",
      "Epoch 4/20\n",
      "611105/611105 [==============================] - 313s 512us/sample - loss: 0.3671 - accuracy: 0.8322 - val_loss: 0.3169 - val_accuracy: 0.8490\n",
      "Epoch 5/20\n",
      "611105/611105 [==============================] - 310s 508us/sample - loss: 0.3392 - accuracy: 0.8417 - val_loss: 0.2955 - val_accuracy: 0.8542\n",
      "Epoch 6/20\n",
      "611105/611105 [==============================] - 310s 508us/sample - loss: 0.3191 - accuracy: 0.8487 - val_loss: 0.2830 - val_accuracy: 0.8612\n",
      "Epoch 7/20\n",
      "611105/611105 [==============================] - 308s 504us/sample - loss: 0.3052 - accuracy: 0.8539 - val_loss: 0.2743 - val_accuracy: 0.8552\n",
      "Epoch 8/20\n",
      "611105/611105 [==============================] - 309s 505us/sample - loss: 0.2951 - accuracy: 0.8568 - val_loss: 0.2607 - val_accuracy: 0.8685\n",
      "Epoch 9/20\n",
      "611105/611105 [==============================] - 307s 502us/sample - loss: 0.2876 - accuracy: 0.8599 - val_loss: 0.2645 - val_accuracy: 0.8677\n",
      "Epoch 10/20\n",
      "611105/611105 [==============================] - 308s 504us/sample - loss: 0.2800 - accuracy: 0.8614 - val_loss: 0.2557 - val_accuracy: 0.8704\n",
      "Epoch 11/20\n",
      "611105/611105 [==============================] - 307s 502us/sample - loss: 0.2738 - accuracy: 0.8639 - val_loss: 0.2527 - val_accuracy: 0.8715\n",
      "Epoch 12/20\n",
      "611105/611105 [==============================] - 308s 504us/sample - loss: 0.2684 - accuracy: 0.8657 - val_loss: 0.2472 - val_accuracy: 0.8731\n",
      "Epoch 13/20\n",
      "611105/611105 [==============================] - 310s 506us/sample - loss: 0.2646 - accuracy: 0.8674 - val_loss: 0.2458 - val_accuracy: 0.8719\n",
      "Epoch 14/20\n",
      "611105/611105 [==============================] - 312s 510us/sample - loss: 0.2596 - accuracy: 0.8690 - val_loss: 0.2419 - val_accuracy: 0.8732\n",
      "Epoch 15/20\n",
      "611105/611105 [==============================] - 312s 510us/sample - loss: 0.2562 - accuracy: 0.8701 - val_loss: 0.2412 - val_accuracy: 0.8745\n",
      "Epoch 16/20\n",
      "611105/611105 [==============================] - 310s 507us/sample - loss: 0.2518 - accuracy: 0.8711 - val_loss: 0.2370 - val_accuracy: 0.8758\n",
      "Epoch 17/20\n",
      "611105/611105 [==============================] - 308s 504us/sample - loss: 0.2499 - accuracy: 0.8720 - val_loss: 0.2396 - val_accuracy: 0.8750\n",
      "Epoch 18/20\n",
      "611105/611105 [==============================] - 310s 507us/sample - loss: 0.2475 - accuracy: 0.8732 - val_loss: 0.2391 - val_accuracy: 0.8741\n",
      "Epoch 19/20\n",
      "611105/611105 [==============================] - 309s 505us/sample - loss: 0.2449 - accuracy: 0.8732 - val_loss: 0.2359 - val_accuracy: 0.8728\n",
      "Epoch 20/20\n",
      "611105/611105 [==============================] - 309s 505us/sample - loss: 0.2426 - accuracy: 0.8744 - val_loss: 0.2355 - val_accuracy: 0.8752\n",
      "Train on 611105 samples, validate on 152778 samples\n",
      "Epoch 1/20\n",
      "611105/611105 [==============================] - 310s 508us/sample - loss: 0.2507 - accuracy: 0.8718 - val_loss: 0.2030 - val_accuracy: 0.8893\n",
      "Epoch 2/20\n",
      "611105/611105 [==============================] - 309s 506us/sample - loss: 0.2460 - accuracy: 0.8735 - val_loss: 0.2022 - val_accuracy: 0.8877\n",
      "Epoch 3/20\n",
      "611105/611105 [==============================] - 310s 507us/sample - loss: 0.2432 - accuracy: 0.8741 - val_loss: 0.2050 - val_accuracy: 0.8869\n",
      "Epoch 4/20\n",
      "611105/611105 [==============================] - 309s 505us/sample - loss: 0.2415 - accuracy: 0.8744 - val_loss: 0.2056 - val_accuracy: 0.8871\n",
      "Epoch 5/20\n",
      "611105/611105 [==============================] - 315s 516us/sample - loss: 0.2393 - accuracy: 0.8754 - val_loss: 0.2082 - val_accuracy: 0.8842\n",
      "Epoch 6/20\n",
      "611105/611105 [==============================] - 309s 506us/sample - loss: 0.2381 - accuracy: 0.8758 - val_loss: 0.2160 - val_accuracy: 0.8858\n",
      "Epoch 7/20\n",
      "611105/611105 [==============================] - 311s 508us/sample - loss: 0.2347 - accuracy: 0.8763 - val_loss: 0.2055 - val_accuracy: 0.8870\n",
      "Epoch 8/20\n",
      "611105/611105 [==============================] - 310s 507us/sample - loss: 0.2337 - accuracy: 0.8771 - val_loss: 0.2109 - val_accuracy: 0.8841\n",
      "Epoch 9/20\n",
      "611105/611105 [==============================] - 309s 506us/sample - loss: 0.2336 - accuracy: 0.8769 - val_loss: 0.2115 - val_accuracy: 0.8780\n",
      "Epoch 10/20\n",
      "611105/611105 [==============================] - 309s 506us/sample - loss: 0.2323 - accuracy: 0.8778 - val_loss: 0.2093 - val_accuracy: 0.8852\n",
      "Epoch 11/20\n",
      "611105/611105 [==============================] - 310s 507us/sample - loss: 0.2306 - accuracy: 0.8784 - val_loss: 0.2097 - val_accuracy: 0.8845\n",
      "Epoch 12/20\n",
      "611105/611105 [==============================] - 315s 515us/sample - loss: 0.2288 - accuracy: 0.8785 - val_loss: 0.2127 - val_accuracy: 0.8842\n",
      "Train on 611106 samples, validate on 152777 samples\n",
      "Epoch 1/20\n",
      "611106/611106 [==============================] - 315s 515us/sample - loss: 0.2345 - accuracy: 0.8769 - val_loss: 0.1904 - val_accuracy: 0.8937\n",
      "Epoch 2/20\n",
      "611106/611106 [==============================] - 314s 513us/sample - loss: 0.2330 - accuracy: 0.8774 - val_loss: 0.1939 - val_accuracy: 0.8908\n",
      "Epoch 3/20\n",
      "611106/611106 [==============================] - 309s 506us/sample - loss: 0.2310 - accuracy: 0.8787 - val_loss: 0.1929 - val_accuracy: 0.8891\n",
      "Epoch 4/20\n",
      "611106/611106 [==============================] - 310s 507us/sample - loss: 0.2293 - accuracy: 0.8784 - val_loss: 0.1961 - val_accuracy: 0.8905\n",
      "Epoch 5/20\n",
      "611106/611106 [==============================] - 309s 506us/sample - loss: 0.2285 - accuracy: 0.8791 - val_loss: 0.1980 - val_accuracy: 0.8888\n",
      "Epoch 6/20\n",
      "611106/611106 [==============================] - 310s 507us/sample - loss: 0.2278 - accuracy: 0.8789 - val_loss: 0.2014 - val_accuracy: 0.8883\n",
      "Epoch 7/20\n",
      "611106/611106 [==============================] - 315s 515us/sample - loss: 0.2258 - accuracy: 0.8802 - val_loss: 0.2047 - val_accuracy: 0.8824\n",
      "Epoch 8/20\n",
      "611106/611106 [==============================] - 313s 513us/sample - loss: 0.2263 - accuracy: 0.8797 - val_loss: 0.2054 - val_accuracy: 0.8866\n",
      "Epoch 9/20\n",
      "611106/611106 [==============================] - 314s 514us/sample - loss: 0.2258 - accuracy: 0.8800 - val_loss: 0.2016 - val_accuracy: 0.8871\n",
      "Epoch 10/20\n",
      "611106/611106 [==============================] - 311s 509us/sample - loss: 0.2248 - accuracy: 0.8797 - val_loss: 0.2032 - val_accuracy: 0.8873\n",
      "Epoch 11/20\n",
      "611106/611106 [==============================] - 313s 513us/sample - loss: 0.2249 - accuracy: 0.8804 - val_loss: 0.2017 - val_accuracy: 0.8876\n",
      "Train on 611108 samples, validate on 152775 samples\n",
      "Epoch 1/20\n",
      "611108/611108 [==============================] - 311s 509us/sample - loss: 0.2266 - accuracy: 0.8797 - val_loss: 0.1864 - val_accuracy: 0.8906\n",
      "Epoch 2/20\n",
      "611108/611108 [==============================] - 310s 507us/sample - loss: 0.2280 - accuracy: 0.8790 - val_loss: 0.1862 - val_accuracy: 0.8932\n",
      "Epoch 3/20\n",
      "611108/611108 [==============================] - 310s 507us/sample - loss: 0.2251 - accuracy: 0.8796 - val_loss: 0.1899 - val_accuracy: 0.8919\n",
      "Epoch 4/20\n",
      "611108/611108 [==============================] - 309s 506us/sample - loss: 0.2234 - accuracy: 0.8806 - val_loss: 0.1906 - val_accuracy: 0.8924\n",
      "Epoch 5/20\n",
      "611108/611108 [==============================] - 309s 505us/sample - loss: 0.2247 - accuracy: 0.8810 - val_loss: 0.1902 - val_accuracy: 0.8920\n",
      "Epoch 6/20\n",
      "611108/611108 [==============================] - 311s 509us/sample - loss: 0.2232 - accuracy: 0.8808 - val_loss: 0.1901 - val_accuracy: 0.8909\n",
      "Epoch 7/20\n",
      "611108/611108 [==============================] - 311s 509us/sample - loss: 0.2234 - accuracy: 0.8808 - val_loss: 0.1960 - val_accuracy: 0.8897\n",
      "Epoch 8/20\n",
      "611108/611108 [==============================] - 309s 506us/sample - loss: 0.2230 - accuracy: 0.8812 - val_loss: 0.2218 - val_accuracy: 0.8821\n",
      "Epoch 9/20\n"
     ]
    },
    {
     "name": "stdout",
     "output_type": "stream",
     "text": [
      "611108/611108 [==============================] - 310s 507us/sample - loss: 0.2218 - accuracy: 0.8815 - val_loss: 0.1952 - val_accuracy: 0.8897\n",
      "Epoch 10/20\n",
      "611108/611108 [==============================] - 310s 507us/sample - loss: 0.2213 - accuracy: 0.8820 - val_loss: 0.1951 - val_accuracy: 0.8885\n",
      "Epoch 11/20\n",
      "611108/611108 [==============================] - 312s 511us/sample - loss: 0.2197 - accuracy: 0.8821 - val_loss: 0.1988 - val_accuracy: 0.8859\n",
      "Epoch 12/20\n",
      "611108/611108 [==============================] - 311s 509us/sample - loss: 0.2203 - accuracy: 0.8820 - val_loss: 0.2241 - val_accuracy: 0.8781\n",
      "Train on 611108 samples, validate on 152775 samples\n",
      "Epoch 1/20\n",
      "611108/611108 [==============================] - 310s 507us/sample - loss: 0.2272 - accuracy: 0.8799 - val_loss: 0.1820 - val_accuracy: 0.8962\n",
      "Epoch 2/20\n",
      "611108/611108 [==============================] - 312s 511us/sample - loss: 0.2250 - accuracy: 0.8805 - val_loss: 0.1864 - val_accuracy: 0.8923\n",
      "Epoch 3/20\n",
      "611108/611108 [==============================] - 310s 508us/sample - loss: 0.2207 - accuracy: 0.8816 - val_loss: 0.1918 - val_accuracy: 0.8889\n",
      "Epoch 4/20\n",
      "611108/611108 [==============================] - 309s 506us/sample - loss: 0.2242 - accuracy: 0.8808 - val_loss: 0.1924 - val_accuracy: 0.8918\n",
      "Epoch 5/20\n",
      "611108/611108 [==============================] - 314s 513us/sample - loss: 0.2208 - accuracy: 0.8819 - val_loss: 0.1852 - val_accuracy: 0.8939\n",
      "Epoch 6/20\n",
      "611108/611108 [==============================] - 314s 514us/sample - loss: 0.2201 - accuracy: 0.8822 - val_loss: 0.1890 - val_accuracy: 0.8921\n",
      "Epoch 7/20\n",
      "611108/611108 [==============================] - 313s 512us/sample - loss: 0.2208 - accuracy: 0.8817 - val_loss: 0.1889 - val_accuracy: 0.8923\n",
      "Epoch 8/20\n",
      "611108/611108 [==============================] - 311s 508us/sample - loss: 0.2194 - accuracy: 0.8823 - val_loss: 0.1941 - val_accuracy: 0.8904\n",
      "Epoch 9/20\n",
      "611108/611108 [==============================] - 308s 504us/sample - loss: 0.2185 - accuracy: 0.8822 - val_loss: 0.1902 - val_accuracy: 0.8922\n",
      "Epoch 10/20\n",
      "611108/611108 [==============================] - 310s 507us/sample - loss: 0.2177 - accuracy: 0.8833 - val_loss: 0.2105 - val_accuracy: 0.8848\n",
      "Epoch 11/20\n",
      "611108/611108 [==============================] - 310s 507us/sample - loss: 0.2205 - accuracy: 0.8816 - val_loss: 0.1915 - val_accuracy: 0.8912\n"
     ]
    }
   ],
   "source": [
    "from tensorflow.keras.callbacks import TensorBoard\n",
    "from sklearn.model_selection import StratifiedKFold\n",
    "from sklearn.metrics import precision_recall_fscore_support\n",
    "from keras.utils import to_categorical\n",
    "from tensorflow.keras.callbacks import EarlyStopping\n",
    "\n",
    "early_stopping = EarlyStopping(monitor='val_loss', patience=10, mode='auto')\n",
    "\n",
    "seed = 929\n",
    "np.random.seed(seed)\n",
    "kfold = StratifiedKFold(n_splits=5, shuffle=True, random_state=seed)\n",
    "callbacks = [early_stopping]\n",
    "\n",
    "X_train, X_test, y_train, y_test = train_test_split(X, Y.argmax(1), test_size=.2)\n",
    "\n",
    "for train, test in kfold.split(X_train, y_train):\n",
    "    model.fit(X_train[train], to_categorical(y_train[train]), validation_data=(X_train[test], to_categorical(y_train[test])), epochs=20, batch_size=128, callbacks=callbacks)\n",
    "\n",
    "#model.save(\"pairs_classification_cnn_bilstm.h5\")\n",
    "\n"
   ]
  },
  {
   "cell_type": "markdown",
   "metadata": {
    "_cell_guid": "4195d3fc-1c0e-4c15-8532-e2531c04c763",
    "_uuid": "e5617004d5cca721264ae2de1927a8249c17d326"
   },
   "source": [
    "# Evaluate"
   ]
  },
  {
   "cell_type": "code",
   "execution_count": 16,
   "metadata": {
    "_cell_guid": "fc019cd0-6f99-475c-acde-d1710695b1b2",
    "_uuid": "f29dc7ca14851abaadbb41220e0e9339e5b9fafe",
    "scrolled": false
   },
   "outputs": [
    {
     "name": "stdout",
     "output_type": "stream",
     "text": [
      "test-acc = 0.8825999759125731\n",
      "Done!\n"
     ]
    }
   ],
   "source": [
    "from sklearn.metrics import confusion_matrix\n",
    "from sklearn.metrics import accuracy_score\n",
    "from sklearn.metrics import classification_report\n",
    "import itertools\n",
    "\n",
    "#train_pred = model.predict(X_train)\n",
    "test_pred = model.predict(X_test)\n",
    "#print(\"train-acc = \" + str(accuracy_score(np.argmax(y_train, axis=1), np.argmax(train_pred, axis=1))))\n",
    "print(\"test-acc = \" + str(accuracy_score(y_test, np.argmax(test_pred, axis=1))))\n",
    "\n",
    "y_pred = np.argmax(test_pred, axis=1)\n",
    "\n",
    "with open('y_test_pred.txt', 'w') as fileout:\n",
    "    for i in range(len(y_test)):\n",
    "        fileout.write(str(y_test[i]) + '\\t' + str(y_pred[i]) + '\\n')\n",
    "print('Done!')\n",
    "# # Compute confusion matrix\n",
    "# cm = confusion_matrix(np.argmax(y_test, axis=1), np.argmax(test_pred, axis=1))\n",
    "\n",
    "# # Plot normalized confusion matrix\n",
    "# cm = cm.astype('float') / cm.sum(axis=1)[:, np.newaxis]\n",
    "# np.set_printoptions(precision=2)\n",
    "# plt.figure(figsize=(10,10))\n",
    "# plt.imshow(cm, interpolation='nearest', cmap=plt.cm.Blues)\n",
    "# plt.title('Confusion matrix')\n",
    "# plt.colorbar()\n",
    "# tick_marks = np.arange(len(lb.classes_))\n",
    "# plt.xticks(tick_marks, lb.classes_, rotation=90)\n",
    "# plt.yticks(tick_marks, lb.classes_)\n",
    "# #for i, j in itertools.product(range(cm.shape[0]), range(cm.shape[1])):\n",
    "# #    plt.text(j, i, format(cm[i, j], '.2f'), horizontalalignment=\"center\", color=\"white\" if cm[i, j] > cm.max() / 2. else \"black\")\n",
    "# plt.ylabel('True label')\n",
    "# plt.xlabel('Predicted label')\n",
    "# plt.show()"
   ]
  },
  {
   "cell_type": "code",
   "execution_count": 17,
   "metadata": {
    "scrolled": false
   },
   "outputs": [
    {
     "name": "stdout",
     "output_type": "stream",
     "text": [
      "              precision    recall  f1-score   support\n",
      "\n",
      "           0     0.8403    0.9495    0.8916     41753\n",
      "           1     0.8259    0.8648    0.8449     30942\n",
      "           2     0.8952    0.8425    0.8681     40711\n",
      "           3     0.9284    0.8747    0.9008     77565\n",
      "\n",
      "   micro avg     0.8826    0.8826    0.8826    190971\n",
      "   macro avg     0.8725    0.8829    0.8763    190971\n",
      "weighted avg     0.8855    0.8826    0.8827    190971\n",
      "\n"
     ]
    }
   ],
   "source": [
    "print(classification_report(y_test.tolist(), np.argmax(test_pred, axis=1).tolist(), digits=4, target_names=['0', '1', '2', '3']))"
   ]
  },
  {
   "cell_type": "code",
   "execution_count": null,
   "metadata": {},
   "outputs": [],
   "source": []
  }
 ],
 "metadata": {
  "kernelspec": {
   "display_name": "Python 2",
   "language": "python",
   "name": "python2"
  },
  "language_info": {
   "codemirror_mode": {
    "name": "ipython",
    "version": 2
   },
   "file_extension": ".py",
   "mimetype": "text/x-python",
   "name": "python",
   "nbconvert_exporter": "python",
   "pygments_lexer": "ipython2",
   "version": "2.7.12"
  }
 },
 "nbformat": 4,
 "nbformat_minor": 1
}
